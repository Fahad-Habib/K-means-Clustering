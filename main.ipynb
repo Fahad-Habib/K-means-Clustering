{
 "cells": [
  {
   "cell_type": "code",
   "execution_count": null,
   "id": "8c24ad93",
   "metadata": {},
   "outputs": [],
   "source": [
    "import numpy as np\n",
    "import matplotlib.pyplot as plt\n",
    "from copy import deepcopy as copy\n",
    "from math import dist"
   ]
  },
  {
   "cell_type": "code",
   "execution_count": null,
   "id": "6ccba07a",
   "metadata": {},
   "outputs": [],
   "source": [
    "with open('data/IRIS.csv') as file:\n",
    "    content = file.read().strip().split('\\n')[1:]\n",
    "\n",
    "species = [i.split(',')[-1] for i in content]\n",
    "data = [np.array(i.split(',')[2:-1], dtype=float) for i in content] # Separate only \"petal length\" and \"petal width\"\n",
    "petal_length, petal_width = [i[0] for i in data], [i[1] for i in data]\n",
    "u = [data[0], data[len(data)//2], data[-1]] # Initial Values for cluster centers\n",
    "N = len(data)\n",
    "K = 3"
   ]
  },
  {
   "cell_type": "code",
   "execution_count": null,
   "id": "84d6a349",
   "metadata": {},
   "outputs": [],
   "source": [
    "for _ in range(5):\n",
    "    J = 0\n",
    "    \n",
    "    r = [[0, 0, 0] for _ in range(len(data))]\n",
    "    distances = []\n",
    "    points = [[], [], []]\n",
    "\n",
    "    for i, point in enumerate(data):\n",
    "        d = [dist(point, u_) for u_ in u]\n",
    "        distances.append(d)\n",
    "        r[i][d.index(min(d))] = 1\n",
    "        points[r[i].index(1)].append(point)\n",
    "    \n",
    "    for i, n in enumerate(points):\n",
    "        sx, sy = 0, 0\n",
    "        for j in n:\n",
    "            sx += j[0]\n",
    "            sy += j[1]\n",
    "        u[i] = (sx/len(n), sy/len(n))\n",
    "\n",
    "    for n in range(N):\n",
    "        for k in range(K):\n",
    "            J += r[n][k] * distances[n][k]\n",
    "\n",
    "    print(J)"
   ]
  },
  {
   "cell_type": "code",
   "execution_count": null,
   "id": "6bc8062f",
   "metadata": {},
   "outputs": [],
   "source": [
    "colors = ['red', 'blue', 'green']\n",
    "\n",
    "for n, i in enumerate(data):\n",
    "    plt.scatter(*i, c=colors[r[n].index(1)], marker='.')\n",
    "for n, i in enumerate(u):\n",
    "    plt.scatter(*i, c=colors[n], marker='x')\n",
    "plt.grid()\n",
    "plt.show()"
   ]
  },
  {
   "cell_type": "code",
   "execution_count": null,
   "id": "47765bf9",
   "metadata": {},
   "outputs": [],
   "source": [
    "specs = ['Iris-setosa', 'Iris-versicolor', 'Iris-virginica']\n",
    "\n",
    "acc = [i==specs[j.index(1)] for i, j in zip(species, r)]\n",
    "t = acc.count(True)\n",
    "f = acc.count(False)\n",
    "\n",
    "print(\"Accuracy:\", t/(t+f))"
   ]
  },
  {
   "cell_type": "code",
   "execution_count": null,
   "id": "982d3218",
   "metadata": {},
   "outputs": [],
   "source": []
  }
 ],
 "metadata": {
  "kernelspec": {
   "display_name": "Python 3 (ipykernel)",
   "language": "python",
   "name": "python3"
  },
  "language_info": {
   "codemirror_mode": {
    "name": "ipython",
    "version": 3
   },
   "file_extension": ".py",
   "mimetype": "text/x-python",
   "name": "python",
   "nbconvert_exporter": "python",
   "pygments_lexer": "ipython3",
   "version": "3.11.2"
  }
 },
 "nbformat": 4,
 "nbformat_minor": 5
}
